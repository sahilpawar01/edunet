{
 "cells": [
  {
   "cell_type": "code",
   "execution_count": 1,
   "metadata": {},
   "outputs": [],
   "source": [
    "import numpy as np\n",
    "import pandas as pd\n",
    "import matplotlib.pyplot as plt\n",
    "import seaborn as sns\n"
   ]
  },
  {
   "cell_type": "markdown",
   "metadata": {},
   "source": [
    "**tracker expense**\n",
    "the whole thing is one dictionary  \n",
    "press this that for functionality "
   ]
  },
  {
   "cell_type": "code",
   "execution_count": null,
   "metadata": {},
   "outputs": [],
   "source": []
  },
  {
   "cell_type": "code",
   "execution_count": 5,
   "metadata": {},
   "outputs": [
    {
     "name": "stdout",
     "output_type": "stream",
     "text": [
      "\n",
      "Total Expense: ₹35.0\n",
      "\n",
      "\n",
      "--- Category-wise Totals ---\n",
      "Food: ₹35.0\n",
      "\n",
      "\n",
      "Total Expense: ₹1535.0\n",
      "\n",
      "Exiting...\n"
     ]
    }
   ],
   "source": [
    "expense = {}  # Initialize dictionary outside loop\n",
    "\n",
    "while True:\n",
    "    try:\n",
    "        choice = int(input(\"Press:\\n1 to Add\\n2 to View\\n3 to View Category-wise Totals\\n4 to Calculate Total Amount\\n5 to Exit\\n\"))\n",
    "\n",
    "        if choice == 1:\n",
    "            category = input(\"Enter category (e.g., Food, Travel, Bills): \").strip().title()\n",
    "            name = input(\"What is the expense? \").strip().title()\n",
    "            amount = float(input(\"What is the amount? \"))\n",
    "\n",
    "            if category not in expense:\n",
    "                expense[category] = {}  # Initialize category if it doesn't exist\n",
    "\n",
    "            expense[category][name] = amount  # Store expense\n",
    "\n",
    "        elif choice == 2:\n",
    "            print(\"\\n--- Expense List ---\")\n",
    "            for category, items in expense.items():\n",
    "                print(f\"{category}:\")\n",
    "                for name, amount in items.items():\n",
    "                    print(f\"  {name}: ₹{amount}\")\n",
    "            print()\n",
    "\n",
    "        elif choice == 3:\n",
    "            print(\"\\n--- Category-wise Totals ---\")\n",
    "            for category, items in expense.items():\n",
    "                print(f\"{category}: ₹{sum(items.values())}\")\n",
    "            print()\n",
    "\n",
    "        elif choice == 4:\n",
    "            total = sum(sum(items.values()) for items in expense.values())\n",
    "            print(f\"\\nTotal Expense: ₹{total}\\n\")\n",
    "\n",
    "        elif choice == 5:\n",
    "            print(\"Exiting...\")\n",
    "            break\n",
    "\n",
    "        else:\n",
    "            print(\"Invalid choice! Please enter a number between 1 and 5.\")\n",
    "\n",
    "    except ValueError:\n",
    "        print(\"Invalid input! Please enter a valid number.\")\n"
   ]
  },
  {
   "cell_type": "code",
   "execution_count": 6,
   "metadata": {},
   "outputs": [
    {
     "name": "stdout",
     "output_type": "stream",
     "text": [
      "1200.0\n"
     ]
    }
   ],
   "source": [
    "# 1.\tAdd a new expense.\n",
    "# 2.\tView all expenses.\n",
    "# 3.\tView category-wise totals.\n",
    "# 4.\tCalculate the total amount spent.\n",
    "# 5.\tExit the application\n",
    "\n",
    "# without functions\n",
    "\n",
    "expense={}\n",
    "while True:\n",
    "  choice = int(input(\"press 1 to add 2: view 3:view by category 4:total 5:exit \"))\n",
    "  \n",
    "  if choice==1:\n",
    "    name= input(\"which expense renewable energy, recycling, organic food\")\n",
    "    amt= float(input(\"enter expense amt\"))\n",
    "    if name in expense:\n",
    "      expense[name]= expense[name]+ amt\n",
    "    else:\n",
    "      expense[name]= amt\n",
    "  \n",
    "  elif choice==2:\n",
    "    print(expense)\n",
    "\n",
    "  elif choice==3:\n",
    "    name= input(\"which expense renewable energy, recycling, organic food\")\n",
    "    print(expense[name])\n",
    "\n",
    "  elif choice==4:\n",
    "    print(sum(expense.values()))\n",
    "  \n",
    "  elif choice==5:\n",
    "    break"
   ]
  },
  {
   "cell_type": "code",
   "execution_count": 9,
   "metadata": {},
   "outputs": [],
   "source": [
    "def add_expense(name,amt):\n",
    "  if name in expense:\n",
    "      expense[name]= expense[name]+ amt\n",
    "  else:\n",
    "      expense[name]= amt\n",
    "\n",
    "# try to create functions for other features\n",
    "\n",
    "expense={}\n",
    "while True:\n",
    "  choice = int(input(\"press 1 to add 2: view 3:view by category 4:total 5:exit \"))\n",
    "  \n",
    "  if choice==1:\n",
    "    name= input(\"which expense renewable energy, recycling, organic food\")\n",
    "    amt= float(input(\"enter expense amt\"))\n",
    "    add_expense(name,amt)\n",
    "  \n",
    "  elif choice==2:\n",
    "    print(expense)\n",
    "\n",
    "  elif choice==3:\n",
    "    name= input(\"which expense renewable energy, recycling, organic food\")\n",
    "    print(expense[name])\n",
    "\n",
    "  elif choice==4:\n",
    "    print(sum(expense.values()))\n",
    "  \n",
    "  elif choice==5:\n",
    "    break"
   ]
  },
  {
   "cell_type": "code",
   "execution_count": null,
   "metadata": {},
   "outputs": [],
   "source": []
  }
 ],
 "metadata": {
  "kernelspec": {
   "display_name": "Python 3",
   "language": "python",
   "name": "python3"
  },
  "language_info": {
   "codemirror_mode": {
    "name": "ipython",
    "version": 3
   },
   "file_extension": ".py",
   "mimetype": "text/x-python",
   "name": "python",
   "nbconvert_exporter": "python",
   "pygments_lexer": "ipython3",
   "version": "3.12.4"
  }
 },
 "nbformat": 4,
 "nbformat_minor": 2
}
