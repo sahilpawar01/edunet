{
 "cells": [
  {
   "cell_type": "code",
   "execution_count": 1,
   "metadata": {},
   "outputs": [],
   "source": [
    "import pandas as pd"
   ]
  },
  {
   "cell_type": "code",
   "execution_count": null,
   "metadata": {},
   "outputs": [],
   "source": []
  },
  {
   "cell_type": "code",
   "execution_count": 15,
   "metadata": {},
   "outputs": [
    {
     "data": {
      "text/html": [
       "<div>\n",
       "<style scoped>\n",
       "    .dataframe tbody tr th:only-of-type {\n",
       "        vertical-align: middle;\n",
       "    }\n",
       "\n",
       "    .dataframe tbody tr th {\n",
       "        vertical-align: top;\n",
       "    }\n",
       "\n",
       "    .dataframe thead th {\n",
       "        text-align: right;\n",
       "    }\n",
       "</style>\n",
       "<table border=\"1\" class=\"dataframe\">\n",
       "  <thead>\n",
       "    <tr style=\"text-align: right;\">\n",
       "      <th></th>\n",
       "      <th>Timestamp</th>\n",
       "      <th>Temperature</th>\n",
       "      <th>Humidity</th>\n",
       "      <th>SquareFootage</th>\n",
       "      <th>Occupancy</th>\n",
       "      <th>HVACUsage</th>\n",
       "      <th>LightingUsage</th>\n",
       "      <th>RenewableEnergy</th>\n",
       "      <th>DayOfWeek</th>\n",
       "      <th>Holiday</th>\n",
       "      <th>EnergyConsumption</th>\n",
       "    </tr>\n",
       "  </thead>\n",
       "  <tbody>\n",
       "    <tr>\n",
       "      <th>995</th>\n",
       "      <td>2022-02-11 11:00:00</td>\n",
       "      <td>28.619382</td>\n",
       "      <td>48.850160</td>\n",
       "      <td>1080.087000</td>\n",
       "      <td>5</td>\n",
       "      <td>Off</td>\n",
       "      <td>Off</td>\n",
       "      <td>21.194696</td>\n",
       "      <td>Saturday</td>\n",
       "      <td>No</td>\n",
       "      <td>82.306692</td>\n",
       "    </tr>\n",
       "    <tr>\n",
       "      <th>996</th>\n",
       "      <td>2022-02-11 12:00:00</td>\n",
       "      <td>23.836647</td>\n",
       "      <td>47.256435</td>\n",
       "      <td>1705.235156</td>\n",
       "      <td>4</td>\n",
       "      <td>Off</td>\n",
       "      <td>On</td>\n",
       "      <td>25.748176</td>\n",
       "      <td>Tuesday</td>\n",
       "      <td>Yes</td>\n",
       "      <td>66.577320</td>\n",
       "    </tr>\n",
       "    <tr>\n",
       "      <th>997</th>\n",
       "      <td>2022-02-11 13:00:00</td>\n",
       "      <td>23.005340</td>\n",
       "      <td>48.720501</td>\n",
       "      <td>1320.285281</td>\n",
       "      <td>6</td>\n",
       "      <td>Off</td>\n",
       "      <td>On</td>\n",
       "      <td>0.297079</td>\n",
       "      <td>Friday</td>\n",
       "      <td>Yes</td>\n",
       "      <td>72.753471</td>\n",
       "    </tr>\n",
       "    <tr>\n",
       "      <th>998</th>\n",
       "      <td>2022-02-11 14:00:00</td>\n",
       "      <td>25.138365</td>\n",
       "      <td>31.306459</td>\n",
       "      <td>1309.079719</td>\n",
       "      <td>3</td>\n",
       "      <td>On</td>\n",
       "      <td>Off</td>\n",
       "      <td>20.425163</td>\n",
       "      <td>Thursday</td>\n",
       "      <td>Yes</td>\n",
       "      <td>76.950389</td>\n",
       "    </tr>\n",
       "    <tr>\n",
       "      <th>999</th>\n",
       "      <td>2022-02-11 15:00:00</td>\n",
       "      <td>23.051165</td>\n",
       "      <td>42.615421</td>\n",
       "      <td>1018.140606</td>\n",
       "      <td>6</td>\n",
       "      <td>Off</td>\n",
       "      <td>On</td>\n",
       "      <td>2.455657</td>\n",
       "      <td>Saturday</td>\n",
       "      <td>No</td>\n",
       "      <td>71.545311</td>\n",
       "    </tr>\n",
       "  </tbody>\n",
       "</table>\n",
       "</div>"
      ],
      "text/plain": [
       "               Timestamp  Temperature   Humidity  SquareFootage  Occupancy  \\\n",
       "995  2022-02-11 11:00:00    28.619382  48.850160    1080.087000          5   \n",
       "996  2022-02-11 12:00:00    23.836647  47.256435    1705.235156          4   \n",
       "997  2022-02-11 13:00:00    23.005340  48.720501    1320.285281          6   \n",
       "998  2022-02-11 14:00:00    25.138365  31.306459    1309.079719          3   \n",
       "999  2022-02-11 15:00:00    23.051165  42.615421    1018.140606          6   \n",
       "\n",
       "    HVACUsage LightingUsage  RenewableEnergy DayOfWeek Holiday  \\\n",
       "995       Off           Off        21.194696  Saturday      No   \n",
       "996       Off            On        25.748176   Tuesday     Yes   \n",
       "997       Off            On         0.297079    Friday     Yes   \n",
       "998        On           Off        20.425163  Thursday     Yes   \n",
       "999       Off            On         2.455657  Saturday      No   \n",
       "\n",
       "     EnergyConsumption  \n",
       "995          82.306692  \n",
       "996          66.577320  \n",
       "997          72.753471  \n",
       "998          76.950389  \n",
       "999          71.545311  "
      ]
     },
     "execution_count": 15,
     "metadata": {},
     "output_type": "execute_result"
    }
   ],
   "source": [
    "df.tail()"
   ]
  },
  {
   "cell_type": "code",
   "execution_count": 5,
   "metadata": {},
   "outputs": [
    {
     "name": "stdout",
     "output_type": "stream",
     "text": [
      "<class 'pandas.core.frame.DataFrame'>\n",
      "RangeIndex: 1000 entries, 0 to 999\n",
      "Data columns (total 11 columns):\n",
      " #   Column             Non-Null Count  Dtype  \n",
      "---  ------             --------------  -----  \n",
      " 0   Timestamp          1000 non-null   object \n",
      " 1   Temperature        1000 non-null   float64\n",
      " 2   Humidity           1000 non-null   float64\n",
      " 3   SquareFootage      1000 non-null   float64\n",
      " 4   Occupancy          1000 non-null   int64  \n",
      " 5   HVACUsage          1000 non-null   object \n",
      " 6   LightingUsage      1000 non-null   object \n",
      " 7   RenewableEnergy    1000 non-null   float64\n",
      " 8   DayOfWeek          1000 non-null   object \n",
      " 9   Holiday            1000 non-null   object \n",
      " 10  EnergyConsumption  1000 non-null   float64\n",
      "dtypes: float64(5), int64(1), object(5)\n",
      "memory usage: 86.1+ KB\n"
     ]
    }
   ],
   "source": [
    "df.info()"
   ]
  },
  {
   "cell_type": "code",
   "execution_count": 6,
   "metadata": {},
   "outputs": [],
   "source": [
    "holiday_energy = df[df[\"Holiday\"] == \"Yes\"][\"EnergyConsumption\"].sum()"
   ]
  },
  {
   "cell_type": "code",
   "execution_count": 7,
   "metadata": {},
   "outputs": [
    {
     "name": "stdout",
     "output_type": "stream",
     "text": [
      "Total Energy Consumption on Holidays: 36215.26224385906\n"
     ]
    }
   ],
   "source": [
    "print(f\"Total Energy Consumption on Holidays: {holiday_energy}\")"
   ]
  },
  {
   "cell_type": "code",
   "execution_count": 8,
   "metadata": {},
   "outputs": [
    {
     "name": "stdout",
     "output_type": "stream",
     "text": [
      "Total Energy Consumption on Holidays: 40840.61062483373\n"
     ]
    }
   ],
   "source": [
    "Nonholiday_energy = df[df[\"Holiday\"] == \"No\"][\"EnergyConsumption\"].sum()\n",
    "print(f\"Total Energy Consumption on Holidays: {Nonholiday_energy}\")\n"
   ]
  },
  {
   "cell_type": "code",
   "execution_count": 9,
   "metadata": {},
   "outputs": [
    {
     "data": {
      "text/html": [
       "<div>\n",
       "<style scoped>\n",
       "    .dataframe tbody tr th:only-of-type {\n",
       "        vertical-align: middle;\n",
       "    }\n",
       "\n",
       "    .dataframe tbody tr th {\n",
       "        vertical-align: top;\n",
       "    }\n",
       "\n",
       "    .dataframe thead th {\n",
       "        text-align: right;\n",
       "    }\n",
       "</style>\n",
       "<table border=\"1\" class=\"dataframe\">\n",
       "  <thead>\n",
       "    <tr style=\"text-align: right;\">\n",
       "      <th></th>\n",
       "      <th>Temperature</th>\n",
       "      <th>Humidity</th>\n",
       "      <th>SquareFootage</th>\n",
       "      <th>Occupancy</th>\n",
       "      <th>RenewableEnergy</th>\n",
       "      <th>EnergyConsumption</th>\n",
       "    </tr>\n",
       "  </thead>\n",
       "  <tbody>\n",
       "    <tr>\n",
       "      <th>count</th>\n",
       "      <td>1000.000000</td>\n",
       "      <td>1000.000000</td>\n",
       "      <td>1000.000000</td>\n",
       "      <td>1000.000000</td>\n",
       "      <td>1000.000000</td>\n",
       "      <td>1000.000000</td>\n",
       "    </tr>\n",
       "    <tr>\n",
       "      <th>mean</th>\n",
       "      <td>24.982026</td>\n",
       "      <td>45.395412</td>\n",
       "      <td>1500.052488</td>\n",
       "      <td>4.581000</td>\n",
       "      <td>15.132813</td>\n",
       "      <td>77.055873</td>\n",
       "    </tr>\n",
       "    <tr>\n",
       "      <th>std</th>\n",
       "      <td>2.836850</td>\n",
       "      <td>8.518905</td>\n",
       "      <td>288.418873</td>\n",
       "      <td>2.865598</td>\n",
       "      <td>8.745917</td>\n",
       "      <td>8.144112</td>\n",
       "    </tr>\n",
       "    <tr>\n",
       "      <th>min</th>\n",
       "      <td>20.007565</td>\n",
       "      <td>30.015975</td>\n",
       "      <td>1000.512661</td>\n",
       "      <td>0.000000</td>\n",
       "      <td>0.006642</td>\n",
       "      <td>53.263278</td>\n",
       "    </tr>\n",
       "    <tr>\n",
       "      <th>25%</th>\n",
       "      <td>22.645070</td>\n",
       "      <td>38.297722</td>\n",
       "      <td>1247.108548</td>\n",
       "      <td>2.000000</td>\n",
       "      <td>7.628385</td>\n",
       "      <td>71.544690</td>\n",
       "    </tr>\n",
       "    <tr>\n",
       "      <th>50%</th>\n",
       "      <td>24.751637</td>\n",
       "      <td>45.972116</td>\n",
       "      <td>1507.967426</td>\n",
       "      <td>5.000000</td>\n",
       "      <td>15.072296</td>\n",
       "      <td>76.943696</td>\n",
       "    </tr>\n",
       "    <tr>\n",
       "      <th>75%</th>\n",
       "      <td>27.418174</td>\n",
       "      <td>52.420066</td>\n",
       "      <td>1740.340165</td>\n",
       "      <td>7.000000</td>\n",
       "      <td>22.884064</td>\n",
       "      <td>82.921742</td>\n",
       "    </tr>\n",
       "    <tr>\n",
       "      <th>max</th>\n",
       "      <td>29.998671</td>\n",
       "      <td>59.969085</td>\n",
       "      <td>1999.982252</td>\n",
       "      <td>9.000000</td>\n",
       "      <td>29.965327</td>\n",
       "      <td>99.201120</td>\n",
       "    </tr>\n",
       "  </tbody>\n",
       "</table>\n",
       "</div>"
      ],
      "text/plain": [
       "       Temperature     Humidity  SquareFootage    Occupancy  RenewableEnergy  \\\n",
       "count  1000.000000  1000.000000    1000.000000  1000.000000      1000.000000   \n",
       "mean     24.982026    45.395412    1500.052488     4.581000        15.132813   \n",
       "std       2.836850     8.518905     288.418873     2.865598         8.745917   \n",
       "min      20.007565    30.015975    1000.512661     0.000000         0.006642   \n",
       "25%      22.645070    38.297722    1247.108548     2.000000         7.628385   \n",
       "50%      24.751637    45.972116    1507.967426     5.000000        15.072296   \n",
       "75%      27.418174    52.420066    1740.340165     7.000000        22.884064   \n",
       "max      29.998671    59.969085    1999.982252     9.000000        29.965327   \n",
       "\n",
       "       EnergyConsumption  \n",
       "count        1000.000000  \n",
       "mean           77.055873  \n",
       "std             8.144112  \n",
       "min            53.263278  \n",
       "25%            71.544690  \n",
       "50%            76.943696  \n",
       "75%            82.921742  \n",
       "max            99.201120  "
      ]
     },
     "execution_count": 9,
     "metadata": {},
     "output_type": "execute_result"
    }
   ],
   "source": [
    "df.describe()"
   ]
  },
  {
   "cell_type": "code",
   "execution_count": 10,
   "metadata": {},
   "outputs": [],
   "source": [
    "filtered_df = df[df[\"LightingUsage\"] == \"Off\"]"
   ]
  },
  {
   "cell_type": "code",
   "execution_count": 11,
   "metadata": {},
   "outputs": [],
   "source": [
    "average_energy_off = filtered_df[\"EnergyConsumption\"].mean()"
   ]
  },
  {
   "cell_type": "code",
   "execution_count": 12,
   "metadata": {},
   "outputs": [
    {
     "name": "stdout",
     "output_type": "stream",
     "text": [
      "Average Energy Consumption when LightingUsage was Off: 76.30897046759982\n"
     ]
    }
   ],
   "source": [
    "print(f\"Average Energy Consumption when LightingUsage was Off: {average_energy_off}\")"
   ]
  },
  {
   "cell_type": "code",
   "execution_count": 13,
   "metadata": {},
   "outputs": [],
   "source": [
    "occupancy_counts = df[\"Occupancy\"].value_counts()"
   ]
  },
  {
   "cell_type": "code",
   "execution_count": 14,
   "metadata": {},
   "outputs": [
    {
     "name": "stdout",
     "output_type": "stream",
     "text": [
      "Occupancy\n",
      "8    118\n",
      "6    107\n",
      "3    106\n",
      "7    101\n",
      "0     98\n",
      "5     96\n",
      "2     96\n",
      "1     93\n",
      "9     93\n",
      "4     92\n",
      "Name: count, dtype: int64\n"
     ]
    }
   ],
   "source": [
    "print(occupancy_counts)"
   ]
  },
  {
   "cell_type": "code",
   "execution_count": null,
   "metadata": {},
   "outputs": [],
   "source": []
  }
 ],
 "metadata": {
  "kernelspec": {
   "display_name": "Python 3",
   "language": "python",
   "name": "python3"
  },
  "language_info": {
   "codemirror_mode": {
    "name": "ipython",
    "version": 3
   },
   "file_extension": ".py",
   "mimetype": "text/x-python",
   "name": "python",
   "nbconvert_exporter": "python",
   "pygments_lexer": "ipython3",
   "version": "3.12.4"
  }
 },
 "nbformat": 4,
 "nbformat_minor": 2
}
