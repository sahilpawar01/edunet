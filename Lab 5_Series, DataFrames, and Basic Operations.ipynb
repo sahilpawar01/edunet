{
 "cells": [
  {
   "cell_type": "markdown",
   "id": "b2a5bbb7",
   "metadata": {},
   "source": [
    "# Managing Renewable Energy and Green Technology Projects with Pandas: Series, DataFrames, and Basic Operations"
   ]
  },
  {
   "cell_type": "markdown",
   "id": "f10c9a35",
   "metadata": {},
   "source": [
    "#### Objectives:\n",
    "\n",
    "1.Series Creation: We will create a Pandas Series to represent renewable energy sources.\n",
    "\n",
    "2.DataFrame Creation: We will create a Pandas DataFrame to organize and manage data on green technology projects.\n",
    "\n",
    "3.Basic Pandas Operations: We will implement basic operations with Pandas, such as accessing columns, filtering data, adding new columns, and performing aggregation and grouping.\n"
   ]
  },
  {
   "cell_type": "markdown",
   "id": "43accd5a",
   "metadata": {},
   "source": [
    "### Step 1: Import Pandas and Create a Dataset\n",
    "\n",
    "First, we’ll need to import the necessary library and create a dataset for renewable energy sources and green technology projects."
   ]
  },
  {
   "cell_type": "code",
   "execution_count": 1,
   "id": "ea509c2c",
   "metadata": {},
   "outputs": [],
   "source": [
    "import pandas as pd\n",
    "\n",
    "# Sample renewable energy sources data\n",
    "renewable_sources = [\"Solar\", \"Wind\", \"Hydropower\", \"Geothermal\", \"Biomass\"]\n",
    "\n",
    "# Sample green technology project data (for DataFrame)\n",
    "data = {\n",
    "    \"Project\": [\"Solar Farm A\", \"Wind Turbine X\", \"Hydropower Y\", \"Solar Roof Z\", \"Geothermal Plant P\"],\n",
    "    \"Technology\": [\"Solar\", \"Wind\", \"Hydropower\", \"Solar\", \"Geothermal\"],\n",
    "    \"Capacity (MW)\": [150, 300, 200, 50, 100],  # Megawatts\n",
    "    \"Cost (Million $)\": [200, 400, 350, 100, 250],  # Project cost\n",
    "    \"Location\": [\"California\", \"Texas\", \"Washington\", \"Nevada\", \"Idaho\"],\n",
    "    \"Completion Year\": [2023, 2024, 2022, 2025, 2023]\n",
    "}\n"
   ]
  },
  {
   "cell_type": "markdown",
   "id": "45cab75b",
   "metadata": {},
   "source": [
    "### 1. Create a Series for Renewable Energy Sources\n",
    "\n",
    "A Pandas Series is a one-dimensional array-like structure. We will create a Series to represent renewable energy sources."
   ]
  },
  {
   "cell_type": "code",
   "execution_count": 2,
   "id": "d3d9a3db",
   "metadata": {},
   "outputs": [
    {
     "name": "stdout",
     "output_type": "stream",
     "text": [
      "Renewable Energy Sources:\n",
      "0         Solar\n",
      "1          Wind\n",
      "2    Hydropower\n",
      "3    Geothermal\n",
      "4       Biomass\n",
      "dtype: object\n"
     ]
    }
   ],
   "source": [
    "# Create a Pandas Series for renewable energy sources\n",
    "renewable_series = pd.Series(renewable_sources)\n",
    "\n",
    "# Print the Series\n",
    "print(\"Renewable Energy Sources:\")\n",
    "print(renewable_series)\n"
   ]
  },
  {
   "cell_type": "markdown",
   "id": "90c951d6",
   "metadata": {},
   "source": [
    "The Pandas Series represents the renewable energy sources (solar, wind, hydropower, etc.).\n",
    "The Series is a simple data structure used to store one-dimensional data."
   ]
  },
  {
   "cell_type": "markdown",
   "id": "4482b373",
   "metadata": {},
   "source": [
    "### 2: Create a DataFrame for Green Technology Projects\n",
    "\n",
    "Now, we’ll create a Pandas DataFrame using the data dictionary that stores information about various green technology projects, such as project names, technologies, capacities, and costs."
   ]
  },
  {
   "cell_type": "code",
   "execution_count": 4,
   "id": "8d76bdd2",
   "metadata": {},
   "outputs": [
    {
     "name": "stdout",
     "output_type": "stream",
     "text": [
      "\n",
      "Green Technology Projects DataFrame:\n",
      "              Project  Technology  Capacity (MW)  Cost (Million $)  \\\n",
      "0        Solar Farm A       Solar            150               200   \n",
      "1      Wind Turbine X        Wind            300               400   \n",
      "2        Hydropower Y  Hydropower            200               350   \n",
      "3        Solar Roof Z       Solar             50               100   \n",
      "4  Geothermal Plant P  Geothermal            100               250   \n",
      "\n",
      "     Location  Completion Year  \n",
      "0  California             2023  \n",
      "1       Texas             2024  \n",
      "2  Washington             2022  \n",
      "3      Nevada             2025  \n",
      "4       Idaho             2023  \n"
     ]
    }
   ],
   "source": [
    "# Create a DataFrame for green technology projects\n",
    "projects_df = pd.DataFrame(data)\n",
    "\n",
    "# Print the DataFrame\n",
    "print(\"\\nGreen Technology Projects DataFrame:\")\n",
    "print(projects_df)\n"
   ]
  },
  {
   "cell_type": "markdown",
   "id": "6c3175bc",
   "metadata": {},
   "source": [
    "The DataFrame is a two-dimensional table-like structure. It organizes our green technology project data, such as project name, technology used, capacity, cost, location, and completion year."
   ]
  },
  {
   "cell_type": "markdown",
   "id": "e182ccbd",
   "metadata": {},
   "source": [
    "### 3. Basic Pandas Operations\n",
    "3.1. Accessing Columns\n",
    "\n",
    "We can access individual columns of the DataFrame to get specific project attributes."
   ]
  },
  {
   "cell_type": "code",
   "execution_count": 5,
   "id": "2aa4d7a8",
   "metadata": {},
   "outputs": [
    {
     "name": "stdout",
     "output_type": "stream",
     "text": [
      "\n",
      "List of Projects:\n",
      "0          Solar Farm A\n",
      "1        Wind Turbine X\n",
      "2          Hydropower Y\n",
      "3          Solar Roof Z\n",
      "4    Geothermal Plant P\n",
      "Name: Project, dtype: object\n"
     ]
    }
   ],
   "source": [
    "# Access the 'Project' column\n",
    "print(\"\\nList of Projects:\")\n",
    "print(projects_df[\"Project\"])\n"
   ]
  },
  {
   "cell_type": "markdown",
   "id": "6a69517e",
   "metadata": {},
   "source": [
    "This code accesses the Project column to list all the green technology project names."
   ]
  },
  {
   "cell_type": "markdown",
   "id": "4408b56b",
   "metadata": {},
   "source": [
    "3.2. Filtering Data\n",
    "\n",
    "Let’s filter the projects based on a certain condition. For example, we want to see projects that have a capacity greater than 100 MW."
   ]
  },
  {
   "cell_type": "code",
   "execution_count": 6,
   "id": "78b55006",
   "metadata": {},
   "outputs": [
    {
     "name": "stdout",
     "output_type": "stream",
     "text": [
      "\n",
      "Projects with Capacity Greater than 100 MW:\n",
      "          Project  Technology  Capacity (MW)  Cost (Million $)    Location  \\\n",
      "0    Solar Farm A       Solar            150               200  California   \n",
      "1  Wind Turbine X        Wind            300               400       Texas   \n",
      "2    Hydropower Y  Hydropower            200               350  Washington   \n",
      "\n",
      "   Completion Year  \n",
      "0             2023  \n",
      "1             2024  \n",
      "2             2022  \n"
     ]
    }
   ],
   "source": [
    "# Filter projects with capacity greater than 100 MW\n",
    "high_capacity_projects = projects_df[projects_df[\"Capacity (MW)\"] > 100]\n",
    "\n",
    "print(\"\\nProjects with Capacity Greater than 100 MW:\")\n",
    "print(high_capacity_projects)\n"
   ]
  },
  {
   "cell_type": "markdown",
   "id": "70f3637e",
   "metadata": {},
   "source": [
    "This filter operation selects projects that have a capacity greater than 100 MW using a condition in Pandas."
   ]
  },
  {
   "cell_type": "markdown",
   "id": "05c09df7",
   "metadata": {},
   "source": [
    "### 3.3. Adding New Columns\n",
    "\n",
    "We’ll add a new column to calculate the cost per megawatt for each project."
   ]
  },
  {
   "cell_type": "code",
   "execution_count": 7,
   "id": "a9946f89",
   "metadata": {},
   "outputs": [
    {
     "name": "stdout",
     "output_type": "stream",
     "text": [
      "\n",
      "DataFrame with Cost per MW:\n",
      "              Project  Technology  Capacity (MW)  Cost (Million $)  \\\n",
      "0        Solar Farm A       Solar            150               200   \n",
      "1      Wind Turbine X        Wind            300               400   \n",
      "2        Hydropower Y  Hydropower            200               350   \n",
      "3        Solar Roof Z       Solar             50               100   \n",
      "4  Geothermal Plant P  Geothermal            100               250   \n",
      "\n",
      "     Location  Completion Year  Cost per MW  \n",
      "0  California             2023     1.333333  \n",
      "1       Texas             2024     1.333333  \n",
      "2  Washington             2022     1.750000  \n",
      "3      Nevada             2025     2.000000  \n",
      "4       Idaho             2023     2.500000  \n"
     ]
    }
   ],
   "source": [
    "# Add a new column for cost per MW\n",
    "projects_df[\"Cost per MW\"] = projects_df[\"Cost (Million $)\"] / projects_df[\"Capacity (MW)\"]\n",
    "\n",
    "print(\"\\nDataFrame with Cost per MW:\")\n",
    "print(projects_df)\n"
   ]
  },
  {
   "cell_type": "markdown",
   "id": "8e516c5b",
   "metadata": {},
   "source": [
    "This code adds a new column Cost per MW by dividing the total project cost by its capacity in megawatts."
   ]
  },
  {
   "cell_type": "markdown",
   "id": "99f4c2fd",
   "metadata": {},
   "source": [
    "### 3.4. Aggregation\n",
    "\n",
    "We can aggregate the data to find the total capacity and total cost of all projects."
   ]
  },
  {
   "cell_type": "code",
   "execution_count": 8,
   "id": "79c6ed9a",
   "metadata": {},
   "outputs": [
    {
     "name": "stdout",
     "output_type": "stream",
     "text": [
      "\n",
      "Total Capacity of all projects: 800 MW\n",
      "Total Cost of all projects: $1300 million\n"
     ]
    }
   ],
   "source": [
    "# Aggregate the total capacity and cost\n",
    "total_capacity = projects_df[\"Capacity (MW)\"].sum()\n",
    "total_cost = projects_df[\"Cost (Million $)\"].sum()\n",
    "\n",
    "print(f\"\\nTotal Capacity of all projects: {total_capacity} MW\")\n",
    "print(f\"Total Cost of all projects: ${total_cost} million\")\n"
   ]
  },
  {
   "cell_type": "markdown",
   "id": "a677fc93",
   "metadata": {},
   "source": [
    "The sum() function aggregates the total capacity and cost across all projects."
   ]
  },
  {
   "cell_type": "markdown",
   "id": "ed01161f",
   "metadata": {},
   "source": [
    "### 3.5. Grouping Data\n",
    "\n",
    "Finally, let’s group the data by technology type and calculate the total capacity for each type of technology."
   ]
  },
  {
   "cell_type": "code",
   "execution_count": 9,
   "id": "f0d29b47",
   "metadata": {},
   "outputs": [
    {
     "name": "stdout",
     "output_type": "stream",
     "text": [
      "\n",
      "Total Capacity by Technology:\n",
      "Technology\n",
      "Geothermal    100\n",
      "Hydropower    200\n",
      "Solar         200\n",
      "Wind          300\n",
      "Name: Capacity (MW), dtype: int64\n"
     ]
    }
   ],
   "source": [
    "# Group by 'Technology' and calculate total capacity for each type\n",
    "grouped_data = projects_df.groupby(\"Technology\")[\"Capacity (MW)\"].sum()\n",
    "\n",
    "print(\"\\nTotal Capacity by Technology:\")\n",
    "print(grouped_data)\n"
   ]
  },
  {
   "cell_type": "markdown",
   "id": "63ed772e",
   "metadata": {},
   "source": [
    "This code groups the data by the Technology column and calculates the total capacity for each type of renewable energy (e.g., solar, wind, hydropower)."
   ]
  },
  {
   "cell_type": "markdown",
   "id": "138b2b6a",
   "metadata": {},
   "source": [
    "#### Conclusion\n",
    "\n",
    "In this lab assignment, we created a Pandas Series to represent renewable energy sources and a DataFrame to organize green technology project data. We performed essential operations with Pandas, including:\n",
    "\n",
    "    Accessing columns to extract specific data,\n",
    "    Filtering the data based on conditions,\n",
    "    Adding new columns to enhance the dataset with additional information,\n",
    "    Aggregating data to calculate total capacity and cost, and\n",
    "    Grouping data by technology to analyze the total capacity for each energy type.\n",
    "\n",
    "These operations help manage and analyze our datasets efficiently, making Pandas an invaluable tool for working with structured data in Python."
   ]
  }
 ],
 "metadata": {
  "kernelspec": {
   "display_name": "Python 3 (ipykernel)",
   "language": "python",
   "name": "python3"
  },
  "language_info": {
   "codemirror_mode": {
    "name": "ipython",
    "version": 3
   },
   "file_extension": ".py",
   "mimetype": "text/x-python",
   "name": "python",
   "nbconvert_exporter": "python",
   "pygments_lexer": "ipython3",
   "version": "3.12.7"
  }
 },
 "nbformat": 4,
 "nbformat_minor": 5
}
