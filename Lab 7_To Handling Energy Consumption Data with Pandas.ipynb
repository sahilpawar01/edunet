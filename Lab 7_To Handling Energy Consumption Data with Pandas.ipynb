{
 "cells": [
  {
   "cell_type": "markdown",
   "id": "26cefae5",
   "metadata": {},
   "source": [
    "# Handling Energy Consumption Data with Pandas: Missing Values and Data Preprocessing"
   ]
  },
  {
   "cell_type": "markdown",
   "id": "60c7ce93",
   "metadata": {},
   "source": [
    "### Objectives:\n",
    "\n",
    "1.Handling Missing Values: We will demonstrate how to handle missing values in energy consumption data by removing rows/columns, imputing values using mean/median, applying forward/backward filling, and flagging missing data.\n",
    "\n",
    "2.Data Preprocessing: We will normalize/standardize the data, encode categorical variables, and implement feature engineering for further analysis."
   ]
  },
  {
   "cell_type": "markdown",
   "id": "07eb5579",
   "metadata": {},
   "source": [
    "### Step 1: Import Pandas and Create a Dataset with Missing Values\n",
    "\n",
    "We’ll first import the necessary libraries and create a dataset that includes some missing values (NaN)."
   ]
  },
  {
   "cell_type": "code",
   "execution_count": 1,
   "id": "2ef630d5",
   "metadata": {},
   "outputs": [
    {
     "name": "stdout",
     "output_type": "stream",
     "text": [
      "Original Energy Data with Missing Values:\n",
      "  Energy Source  Energy Consumption (MWh)  Cost (Million $)\n",
      "0         Solar                    1200.0             200.0\n",
      "1          Wind                       NaN             400.0\n",
      "2    Hydropower                    2900.0               NaN\n",
      "3    Geothermal                       NaN             150.0\n",
      "4       Biomass                    2500.0             250.0\n",
      "5       Nuclear                    3200.0               NaN\n"
     ]
    }
   ],
   "source": [
    "import pandas as pd\n",
    "import numpy as np\n",
    "\n",
    "# Sample data with missing values\n",
    "data = {\n",
    "    \"Energy Source\": [\"Solar\", \"Wind\", \"Hydropower\", \"Geothermal\", \"Biomass\", \"Nuclear\"],\n",
    "    \"Energy Consumption (MWh)\": [1200, np.nan, 2900, np.nan, 2500, 3200],\n",
    "    \"Cost (Million $)\": [200, 400, np.nan, 150, 250, np.nan]\n",
    "}\n",
    "\n",
    "# Create a DataFrame\n",
    "energy_df = pd.DataFrame(data)\n",
    "\n",
    "print(\"Original Energy Data with Missing Values:\")\n",
    "print(energy_df)\n"
   ]
  },
  {
   "cell_type": "markdown",
   "id": "2da75d65",
   "metadata": {},
   "source": [
    "We created a Pandas DataFrame energy_df representing energy sources and their consumption and costs.\n",
    "\n",
    "The dataset includes some NaN (missing) values, which we will handle in the next steps."
   ]
  },
  {
   "cell_type": "markdown",
   "id": "c62a42db",
   "metadata": {},
   "source": [
    "### 1. Handling Missing Values\n"
   ]
  },
  {
   "cell_type": "markdown",
   "id": "a02cc291",
   "metadata": {},
   "source": [
    "#### 1.1. Remove Rows with Missing Values\n",
    "\n",
    "We can remove rows that contain any missing values using dropna()."
   ]
  },
  {
   "cell_type": "code",
   "execution_count": 2,
   "id": "7a9e9dc8",
   "metadata": {},
   "outputs": [
    {
     "name": "stdout",
     "output_type": "stream",
     "text": [
      "\n",
      "Data After Removing Rows with Missing Values:\n",
      "  Energy Source  Energy Consumption (MWh)  Cost (Million $)\n",
      "0         Solar                    1200.0             200.0\n",
      "4       Biomass                    2500.0             250.0\n"
     ]
    }
   ],
   "source": [
    "# Remove rows with any missing values\n",
    "cleaned_df = energy_df.dropna()\n",
    "\n",
    "print(\"\\nData After Removing Rows with Missing Values:\")\n",
    "print(cleaned_df)\n"
   ]
  },
  {
   "cell_type": "markdown",
   "id": "0f7cc7d5",
   "metadata": {},
   "source": [
    "The above code snippet removes rows where any column has missing data. This method is straightforward but may result in losing a significant amount of data."
   ]
  },
  {
   "cell_type": "markdown",
   "id": "65a17183",
   "metadata": {},
   "source": [
    "#### 1.2. Impute Missing Values with the Mean\n",
    "\n",
    "Instead of removing rows, we can impute missing values by filling them with the mean value of the column."
   ]
  },
  {
   "cell_type": "code",
   "execution_count": 3,
   "id": "5f2575fb",
   "metadata": {},
   "outputs": [
    {
     "name": "stdout",
     "output_type": "stream",
     "text": [
      "\n",
      "Data After Imputing Missing Values with Mean:\n",
      "  Energy Source  Energy Consumption (MWh)  Cost (Million $)\n",
      "0         Solar                    1200.0             200.0\n",
      "1          Wind                    2450.0             400.0\n",
      "2    Hydropower                    2900.0             250.0\n",
      "3    Geothermal                    2450.0             150.0\n",
      "4       Biomass                    2500.0             250.0\n",
      "5       Nuclear                    3200.0             250.0\n"
     ]
    }
   ],
   "source": [
    "# Impute missing values in 'Energy Consumption (MWh)' with the mean\n",
    "energy_df[\"Energy Consumption (MWh)\"].fillna(energy_df[\"Energy Consumption (MWh)\"].mean(), inplace=True)\n",
    "\n",
    "# Impute missing values in 'Cost (Million $)' with the mean\n",
    "energy_df[\"Cost (Million $)\"].fillna(energy_df[\"Cost (Million $)\"].mean(), inplace=True)\n",
    "\n",
    "print(\"\\nData After Imputing Missing Values with Mean:\")\n",
    "print(energy_df)\n"
   ]
  },
  {
   "cell_type": "markdown",
   "id": "15f30dfa",
   "metadata": {},
   "source": [
    "We used the mean imputation method to fill missing values in both the Energy Consumption (MWh) and Cost (Million $) columns, ensuring that we retain the dataset while handling missing values."
   ]
  },
  {
   "cell_type": "markdown",
   "id": "a450c06c",
   "metadata": {},
   "source": [
    "#### 1.3. Forward/Backward Filling\n",
    "\n",
    "Another method is forward filling, where missing values are replaced by the previous valid entry."
   ]
  },
  {
   "cell_type": "code",
   "execution_count": 4,
   "id": "f50c5295",
   "metadata": {},
   "outputs": [
    {
     "name": "stdout",
     "output_type": "stream",
     "text": [
      "\n",
      "Data After Forward Filling:\n",
      "  Energy Source  Energy Consumption (MWh)  Cost (Million $)\n",
      "0         Solar                    1200.0             200.0\n",
      "1          Wind                    2450.0             400.0\n",
      "2    Hydropower                    2900.0             250.0\n",
      "3    Geothermal                    2450.0             150.0\n",
      "4       Biomass                    2500.0             250.0\n",
      "5       Nuclear                    3200.0             250.0\n"
     ]
    }
   ],
   "source": [
    "# Forward fill missing values\n",
    "forward_filled_df = energy_df.fillna(method=\"ffill\")\n",
    "\n",
    "print(\"\\nData After Forward Filling:\")\n",
    "print(forward_filled_df)\n"
   ]
  },
  {
   "cell_type": "markdown",
   "id": "945aa03a",
   "metadata": {},
   "source": [
    "Forward filling (ffill) replaces missing values with the previous non-missing value in the column, which is useful when data is time-series-based."
   ]
  },
  {
   "cell_type": "markdown",
   "id": "e23c3bc9",
   "metadata": {},
   "source": [
    "#### 1.4. Flag Missing Values\n",
    "\n",
    "We can also create a separate column to flag missing values before imputation."
   ]
  },
  {
   "cell_type": "code",
   "execution_count": 5,
   "id": "99b7b1ac",
   "metadata": {},
   "outputs": [
    {
     "name": "stdout",
     "output_type": "stream",
     "text": [
      "\n",
      "Data with Missing Values Flagged:\n",
      "  Energy Source  Energy Consumption (MWh)  Cost (Million $)  \\\n",
      "0         Solar                    1200.0             200.0   \n",
      "1          Wind                    2450.0             400.0   \n",
      "2    Hydropower                    2900.0             250.0   \n",
      "3    Geothermal                    2450.0             150.0   \n",
      "4       Biomass                    2500.0             250.0   \n",
      "5       Nuclear                    3200.0             250.0   \n",
      "\n",
      "   Missing Consumption  \n",
      "0                    0  \n",
      "1                    0  \n",
      "2                    0  \n",
      "3                    0  \n",
      "4                    0  \n",
      "5                    0  \n"
     ]
    }
   ],
   "source": [
    "# Create a flag column indicating missing values in 'Energy Consumption (MWh)'\n",
    "energy_df[\"Missing Consumption\"] = energy_df[\"Energy Consumption (MWh)\"].isna().astype(int)\n",
    "\n",
    "print(\"\\nData with Missing Values Flagged:\")\n",
    "print(energy_df)\n"
   ]
  },
  {
   "cell_type": "markdown",
   "id": "f6214be6",
   "metadata": {},
   "source": [
    "The Missing Consumption column flags missing values with 1 (missing) or 0 (not missing), which helps track imputed values."
   ]
  },
  {
   "cell_type": "markdown",
   "id": "75128a2c",
   "metadata": {},
   "source": [
    "### 2. Data Preprocessing\n"
   ]
  },
  {
   "cell_type": "markdown",
   "id": "9fbbd1a7",
   "metadata": {},
   "source": [
    "#### 2.1. Normalization (Min-Max Scaling)\n",
    "\n",
    "We will scale the data to a range between 0 and 1 using Min-Max Scaling."
   ]
  },
  {
   "cell_type": "code",
   "execution_count": 6,
   "id": "de3b9c54",
   "metadata": {},
   "outputs": [
    {
     "name": "stdout",
     "output_type": "stream",
     "text": [
      "\n",
      "Data After Normalization (Min-Max Scaling):\n",
      "  Energy Source  Energy Consumption (MWh)  Cost (Million $)  \\\n",
      "0         Solar                     0.000               0.2   \n",
      "1          Wind                     0.625               1.0   \n",
      "2    Hydropower                     0.850               0.4   \n",
      "3    Geothermal                     0.625               0.0   \n",
      "4       Biomass                     0.650               0.4   \n",
      "5       Nuclear                     1.000               0.4   \n",
      "\n",
      "   Missing Consumption  \n",
      "0                    0  \n",
      "1                    0  \n",
      "2                    0  \n",
      "3                    0  \n",
      "4                    0  \n",
      "5                    0  \n"
     ]
    }
   ],
   "source": [
    "from sklearn.preprocessing import MinMaxScaler\n",
    "\n",
    "# Normalize the 'Energy Consumption (MWh)' and 'Cost (Million $)'\n",
    "scaler = MinMaxScaler()\n",
    "energy_df[[\"Energy Consumption (MWh)\", \"Cost (Million $)\"]] = scaler.fit_transform(\n",
    "    energy_df[[\"Energy Consumption (MWh)\", \"Cost (Million $)\"]]\n",
    ")\n",
    "\n",
    "print(\"\\nData After Normalization (Min-Max Scaling):\")\n",
    "print(energy_df)\n"
   ]
  },
  {
   "cell_type": "markdown",
   "id": "cfc10893",
   "metadata": {},
   "source": [
    "Min-Max Scaling normalizes the energy consumption and cost values, scaling them to a range between 0 and 1. This is useful when comparing features with different units or magnitudes."
   ]
  },
  {
   "cell_type": "markdown",
   "id": "b65a1c99",
   "metadata": {},
   "source": [
    "#### 2.2. Standardization (Z-score Scaling)\n",
    "\n",
    "Alternatively, we can use standardization, which centers the data around a mean of 0 with a standard deviation of 1."
   ]
  },
  {
   "cell_type": "code",
   "execution_count": 7,
   "id": "a05a46a2",
   "metadata": {},
   "outputs": [
    {
     "name": "stdout",
     "output_type": "stream",
     "text": [
      "\n",
      "Data After Standardization (Z-score Scaling):\n",
      "  Energy Source  Energy Consumption (MWh)  Cost (Million $)  \\\n",
      "0         Solar             -2.005893e+00     -6.546537e-01   \n",
      "1          Wind              3.563181e-16      1.963961e+00   \n",
      "2    Hydropower              7.221213e-01      1.817029e-16   \n",
      "3    Geothermal              3.563181e-16     -1.309307e+00   \n",
      "4       Biomass              8.023570e-02      1.817029e-16   \n",
      "5       Nuclear              1.203536e+00      1.817029e-16   \n",
      "\n",
      "   Missing Consumption  \n",
      "0                    0  \n",
      "1                    0  \n",
      "2                    0  \n",
      "3                    0  \n",
      "4                    0  \n",
      "5                    0  \n"
     ]
    }
   ],
   "source": [
    "from sklearn.preprocessing import StandardScaler\n",
    "\n",
    "# Standardize the 'Energy Consumption (MWh)' and 'Cost (Million $)'\n",
    "scaler = StandardScaler()\n",
    "energy_df[[\"Energy Consumption (MWh)\", \"Cost (Million $)\"]] = scaler.fit_transform(\n",
    "    energy_df[[\"Energy Consumption (MWh)\", \"Cost (Million $)\"]]\n",
    ")\n",
    "\n",
    "print(\"\\nData After Standardization (Z-score Scaling):\")\n",
    "print(energy_df)\n"
   ]
  },
  {
   "cell_type": "markdown",
   "id": "39945a3e",
   "metadata": {},
   "source": [
    "Z-score scaling standardizes the values, making the mean 0 and standard deviation 1, which is useful when dealing with normally distributed data."
   ]
  },
  {
   "cell_type": "markdown",
   "id": "c27a10f9",
   "metadata": {},
   "source": [
    "#### 2.3. Encoding Categorical Variables\n",
    "\n",
    "We’ll convert the categorical column Energy Source into numeric format using one-hot encoding."
   ]
  },
  {
   "cell_type": "code",
   "execution_count": 8,
   "id": "2e67e87a",
   "metadata": {},
   "outputs": [
    {
     "name": "stdout",
     "output_type": "stream",
     "text": [
      "\n",
      "Data After One-Hot Encoding Categorical Variables:\n",
      "   Energy Consumption (MWh)  Cost (Million $)  Missing Consumption  \\\n",
      "0             -2.005893e+00     -6.546537e-01                    0   \n",
      "1              3.563181e-16      1.963961e+00                    0   \n",
      "2              7.221213e-01      1.817029e-16                    0   \n",
      "3              3.563181e-16     -1.309307e+00                    0   \n",
      "4              8.023570e-02      1.817029e-16                    0   \n",
      "5              1.203536e+00      1.817029e-16                    0   \n",
      "\n",
      "   Energy Source_Biomass  Energy Source_Geothermal  Energy Source_Hydropower  \\\n",
      "0                      0                         0                         0   \n",
      "1                      0                         0                         0   \n",
      "2                      0                         0                         1   \n",
      "3                      0                         1                         0   \n",
      "4                      1                         0                         0   \n",
      "5                      0                         0                         0   \n",
      "\n",
      "   Energy Source_Nuclear  Energy Source_Solar  Energy Source_Wind  \n",
      "0                      0                    1                   0  \n",
      "1                      0                    0                   1  \n",
      "2                      0                    0                   0  \n",
      "3                      0                    0                   0  \n",
      "4                      0                    0                   0  \n",
      "5                      1                    0                   0  \n"
     ]
    }
   ],
   "source": [
    "# One-hot encode the 'Energy Source' column\n",
    "energy_encoded_df = pd.get_dummies(energy_df, columns=[\"Energy Source\"])\n",
    "\n",
    "print(\"\\nData After One-Hot Encoding Categorical Variables:\")\n",
    "print(energy_encoded_df)\n"
   ]
  },
  {
   "cell_type": "markdown",
   "id": "473a49b9",
   "metadata": {},
   "source": [
    "One-hot encoding converts the Energy Source column into multiple binary columns, each representing the presence (1) or absence (0) of a specific energy source."
   ]
  },
  {
   "cell_type": "markdown",
   "id": "f50ef2c1",
   "metadata": {},
   "source": [
    "#### 2.4. Feature Engineering\n",
    "\n",
    "We can create a new feature that represents the ratio of energy consumption to cost."
   ]
  },
  {
   "cell_type": "code",
   "execution_count": 9,
   "id": "9e25c096",
   "metadata": {},
   "outputs": [
    {
     "name": "stdout",
     "output_type": "stream",
     "text": [
      "\n",
      "Data with New Feature (Consumption per $Million):\n",
      "   Energy Consumption (MWh)  Cost (Million $)  Missing Consumption  \\\n",
      "0             -2.005893e+00     -6.546537e-01                    0   \n",
      "1              3.563181e-16      1.963961e+00                    0   \n",
      "2              7.221213e-01      1.817029e-16                    0   \n",
      "3              3.563181e-16     -1.309307e+00                    0   \n",
      "4              8.023570e-02      1.817029e-16                    0   \n",
      "5              1.203536e+00      1.817029e-16                    0   \n",
      "\n",
      "   Energy Source_Biomass  Energy Source_Geothermal  Energy Source_Hydropower  \\\n",
      "0                      0                         0                         0   \n",
      "1                      0                         0                         0   \n",
      "2                      0                         0                         1   \n",
      "3                      0                         1                         0   \n",
      "4                      1                         0                         0   \n",
      "5                      0                         0                         0   \n",
      "\n",
      "   Energy Source_Nuclear  Energy Source_Solar  Energy Source_Wind  \\\n",
      "0                      0                    1                   0   \n",
      "1                      0                    0                   1   \n",
      "2                      0                    0                   0   \n",
      "3                      0                    0                   0   \n",
      "4                      0                    0                   0   \n",
      "5                      1                    0                   0   \n",
      "\n",
      "   Consumption per $Million  \n",
      "0              3.064052e+00  \n",
      "1              1.814283e-16  \n",
      "2              3.974187e+15  \n",
      "3             -2.721424e-16  \n",
      "4              4.415764e+14  \n",
      "5              6.623646e+15  \n"
     ]
    }
   ],
   "source": [
    "# Create a new feature: Energy Consumption per Million $\n",
    "energy_encoded_df[\"Consumption per $Million\"] = energy_encoded_df[\"Energy Consumption (MWh)\"] / energy_encoded_df[\"Cost (Million $)\"]\n",
    "\n",
    "print(\"\\nData with New Feature (Consumption per $Million):\")\n",
    "print(energy_encoded_df)\n"
   ]
  },
  {
   "cell_type": "markdown",
   "id": "0f95edde",
   "metadata": {},
   "source": [
    "This new feature, Consumption per $Million, calculates how much energy is produced per million dollars spent, providing insight into the efficiency of energy sources."
   ]
  },
  {
   "cell_type": "markdown",
   "id": "b88198e4",
   "metadata": {},
   "source": [
    "#### Conclusion\n",
    "\n",
    "In this lab assignment, we handled missing values in energy consumption data by:\n",
    "\n",
    "    Removing rows with missing values,\n",
    "    Imputing missing values with the mean,\n",
    "    Using forward filling, and\n",
    "    Flagging missing values.\n",
    "\n",
    "We then applied data preprocessing techniques such as normalization, standardization, encoding categorical variables, and feature engineering to enhance the dataset. These methods help prepare data for deeper analysis, modeling, and machine learning applications by ensuring that it’s clean, consistent, and ready for further use."
   ]
  }
 ],
 "metadata": {
  "kernelspec": {
   "display_name": "Python 3 (ipykernel)",
   "language": "python",
   "name": "python3"
  },
  "language_info": {
   "codemirror_mode": {
    "name": "ipython",
    "version": 3
   },
   "file_extension": ".py",
   "mimetype": "text/x-python",
   "name": "python",
   "nbconvert_exporter": "python",
   "pygments_lexer": "ipython3",
   "version": "3.12.7"
  }
 },
 "nbformat": 4,
 "nbformat_minor": 5
}
