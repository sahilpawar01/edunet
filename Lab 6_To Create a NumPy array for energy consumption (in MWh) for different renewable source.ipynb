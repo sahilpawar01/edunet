{
 "cells": [
  {
   "cell_type": "markdown",
   "id": "9c182b00",
   "metadata": {},
   "source": [
    "# Efficient Data Handling for Renewable Energy Consumption Using NumPy"
   ]
  },
  {
   "cell_type": "markdown",
   "id": "0e0bddb3",
   "metadata": {},
   "source": [
    "#### Objectives:\n",
    "\n",
    "1.NumPy Arrays: We will create a NumPy array to efficiently store and manipulate numerical data for energy consumption (in MWh) from different renewable energy sources.\n",
    "\n",
    "2.Basic Operations: We will perform basic operations such as calculating the sum, mean, standard deviation, and reshaping the data for further analysis."
   ]
  },
  {
   "cell_type": "markdown",
   "id": "bfab96f2",
   "metadata": {},
   "source": [
    "### Step 1. Import NumPy and Create a Dataset\n",
    "\n",
    "We’ll begin by importing the NumPy library and creating a NumPy array to represent energy consumption data for different renewable energy sources."
   ]
  },
  {
   "cell_type": "code",
   "execution_count": 1,
   "id": "ad0e987d",
   "metadata": {},
   "outputs": [
    {
     "name": "stdout",
     "output_type": "stream",
     "text": [
      "Energy Consumption (in MWh) for Different Renewable Sources:\n",
      "[1200 3400 2900 1800 2500]\n"
     ]
    }
   ],
   "source": [
    "import numpy as np\n",
    "\n",
    "# Energy consumption in MWh for different renewable sources: Solar, Wind, Hydropower, Geothermal, Biomass\n",
    "energy_consumption = np.array([1200, 3400, 2900, 1800, 2500])\n",
    "\n",
    "# Print the array\n",
    "print(\"Energy Consumption (in MWh) for Different Renewable Sources:\")\n",
    "print(energy_consumption)\n"
   ]
  },
  {
   "cell_type": "markdown",
   "id": "ca12d69e",
   "metadata": {},
   "source": [
    "We’ve created a NumPy array energy_consumption that stores energy consumption in megawatt-hours (MWh) for different renewable sources: Solar, Wind, Hydropower, Geothermal, and Biomass.\n",
    "\n",
    "The array provides efficient storage and manipulation of numerical data, which makes it suitable for large datasets."
   ]
  },
  {
   "cell_type": "markdown",
   "id": "ea97c219",
   "metadata": {},
   "source": [
    "### Step 2: Perform Basic Operations\n"
   ]
  },
  {
   "cell_type": "markdown",
   "id": "1ca2bd4f",
   "metadata": {},
   "source": [
    "#### 2.1. Calculate the Sum of Energy Consumption\n",
    "\n",
    "We’ll calculate the total energy consumption across all renewable sources."
   ]
  },
  {
   "cell_type": "code",
   "execution_count": 2,
   "id": "e625b419",
   "metadata": {},
   "outputs": [
    {
     "name": "stdout",
     "output_type": "stream",
     "text": [
      "\n",
      "Total Energy Consumption: 11800 MWh\n"
     ]
    }
   ],
   "source": [
    "# Calculate the total energy consumption\n",
    "total_consumption = np.sum(energy_consumption)\n",
    "\n",
    "print(f\"\\nTotal Energy Consumption: {total_consumption} MWh\")\n"
   ]
  },
  {
   "cell_type": "markdown",
   "id": "f6bdad81",
   "metadata": {},
   "source": [
    "The np.sum() function efficiently sums all the values in the array to calculate the total energy consumption across all sources."
   ]
  },
  {
   "cell_type": "markdown",
   "id": "d596e1a4",
   "metadata": {},
   "source": [
    "#### 2.2. Calculate the Mean (Average) Energy Consumption"
   ]
  },
  {
   "cell_type": "code",
   "execution_count": 3,
   "id": "ad59ade6",
   "metadata": {},
   "outputs": [
    {
     "name": "stdout",
     "output_type": "stream",
     "text": [
      "\n",
      "Mean Energy Consumption: 2360.00 MWh\n"
     ]
    }
   ],
   "source": [
    "# Calculate the mean energy consumption\n",
    "mean_consumption = np.mean(energy_consumption)\n",
    "\n",
    "print(f\"\\nMean Energy Consumption: {mean_consumption:.2f} MWh\")\n"
   ]
  },
  {
   "cell_type": "markdown",
   "id": "dca5cf5c",
   "metadata": {},
   "source": [
    "The np.mean() function calculates the average energy consumption by dividing the total consumption by the number of sources."
   ]
  },
  {
   "cell_type": "markdown",
   "id": "d352e43d",
   "metadata": {},
   "source": [
    "#### 2.3. Calculate the Standard Deviation of Energy Consumption"
   ]
  },
  {
   "cell_type": "code",
   "execution_count": 4,
   "id": "87c96989",
   "metadata": {},
   "outputs": [
    {
     "name": "stdout",
     "output_type": "stream",
     "text": [
      "\n",
      "Standard Deviation of Energy Consumption: 781.28 MWh\n"
     ]
    }
   ],
   "source": [
    "# Calculate the standard deviation of energy consumption\n",
    "std_deviation = np.std(energy_consumption)\n",
    "\n",
    "print(f\"\\nStandard Deviation of Energy Consumption: {std_deviation:.2f} MWh\")\n"
   ]
  },
  {
   "cell_type": "markdown",
   "id": "d3a3e3f0",
   "metadata": {},
   "source": [
    "The np.std() function calculates how much the energy consumption values deviate from the mean, providing insights into the variability of the data.\n"
   ]
  },
  {
   "cell_type": "markdown",
   "id": "edaf9856",
   "metadata": {},
   "source": [
    "#### 2.4. Reshaping the Array\n",
    "\n",
    "Now, let’s reshape the array to demonstrate how we can manipulate its structure. We’ll reshape it into a 5x1 array."
   ]
  },
  {
   "cell_type": "code",
   "execution_count": 5,
   "id": "57acb52e",
   "metadata": {},
   "outputs": [
    {
     "name": "stdout",
     "output_type": "stream",
     "text": [
      "\n",
      "Reshaped Energy Consumption Array (5x1):\n",
      "[[1200]\n",
      " [3400]\n",
      " [2900]\n",
      " [1800]\n",
      " [2500]]\n"
     ]
    }
   ],
   "source": [
    "# Reshape the array (to 5 rows and 1 column)\n",
    "reshaped_array = energy_consumption.reshape((5, 1))\n",
    "\n",
    "print(\"\\nReshaped Energy Consumption Array (5x1):\")\n",
    "print(reshaped_array)\n"
   ]
  },
  {
   "cell_type": "markdown",
   "id": "32169c08",
   "metadata": {},
   "source": [
    "The reshape() function changes the shape of the array from a 1D array (of length 5) to a 2D array with 5 rows and 1 column, allowing for further analysis or integration into matrix operations."
   ]
  },
  {
   "cell_type": "markdown",
   "id": "53cb191e",
   "metadata": {},
   "source": [
    "### Conclusion\n",
    "\n",
    "In this lab assignment, we used NumPy to create an array representing energy consumption from various renewable sources. By leveraging NumPy’s powerful functions, we efficiently performed basic operations such as summing the data, calculating the mean and standard deviation, and reshaping the array for more complex data manipulations. NumPy's efficient handling of numerical data makes it an essential tool for energy-related data analysis and large-scale computations."
   ]
  }
 ],
 "metadata": {
  "kernelspec": {
   "display_name": "Python 3 (ipykernel)",
   "language": "python",
   "name": "python3"
  },
  "language_info": {
   "codemirror_mode": {
    "name": "ipython",
    "version": 3
   },
   "file_extension": ".py",
   "mimetype": "text/x-python",
   "name": "python",
   "nbconvert_exporter": "python",
   "pygments_lexer": "ipython3",
   "version": "3.12.7"
  }
 },
 "nbformat": 4,
 "nbformat_minor": 5
}
